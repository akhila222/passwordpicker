{
 "cells": [
  {
   "cell_type": "code",
   "execution_count": 2,
   "id": "6ccc078a",
   "metadata": {},
   "outputs": [
    {
     "name": "stdout",
     "output_type": "stream",
     "text": [
      "Password picker\n",
      "new password is bravecar72@\n"
     ]
    }
   ],
   "source": [
    "import random\n",
    "adjectives=['brave','bright','elegent','beautiful','deep','helpful','sharp','fancy','bored','adorable','cute','creepy']\n",
    "nouns=['alka','women','men','chair','bird','animal','work','jose','day','car','phone','table','key','coffee','tea']\n",
    "characters=[\"#\",'@','%','!','$','&','*','.',',','?','>','<','/',\"_\"]\n",
    "numbers=range(0,100)\n",
    "adj=random.choice(adjectives)\n",
    "noun=random.choice(nouns)\n",
    "num=random.choice(numbers)\n",
    "chara=random.choice(characters)\n",
    "print('Password picker')\n",
    "print(\"new password is\",str(adj)+str(noun)+str(num)+str(chara))\n"
   ]
  },
  {
   "cell_type": "code",
   "execution_count": null,
   "id": "c1d04565",
   "metadata": {},
   "outputs": [],
   "source": []
  }
 ],
 "metadata": {
  "kernelspec": {
   "display_name": "Python 3",
   "language": "python",
   "name": "python3"
  },
  "language_info": {
   "codemirror_mode": {
    "name": "ipython",
    "version": 3
   },
   "file_extension": ".py",
   "mimetype": "text/x-python",
   "name": "python",
   "nbconvert_exporter": "python",
   "pygments_lexer": "ipython3",
   "version": "3.8.8"
  }
 },
 "nbformat": 4,
 "nbformat_minor": 5
}
